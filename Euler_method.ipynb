{
  "nbformat": 4,
  "nbformat_minor": 0,
  "metadata": {
    "colab": {
      "name": "Euler_method",
      "provenance": [],
      "collapsed_sections": [
        "FSgG_5Ql5fsC",
        "L7RfXhuG6oy6",
        "V0N90jLH6rGJ"
      ],
      "toc_visible": true,
      "authorship_tag": "ABX9TyO1cPIAUZHtWV3z7vqpVSwC",
      "include_colab_link": true
    },
    "kernelspec": {
      "name": "python3",
      "display_name": "Python 3"
    },
    "language_info": {
      "name": "python"
    }
  },
  "cells": [
    {
      "cell_type": "markdown",
      "metadata": {
        "id": "view-in-github",
        "colab_type": "text"
      },
      "source": [
        "<a href=\"https://colab.research.google.com/github/aissakhanov/Codes-used-in-papers/blob/main/Euler_method.ipynb\" target=\"_parent\"><img src=\"https://colab.research.google.com/assets/colab-badge.svg\" alt=\"Open In Colab\"/></a>"
      ]
    },
    {
      "cell_type": "markdown",
      "source": [
        "# **What is Euler method for Ordinary Differential Equations?**"
      ],
      "metadata": {
        "id": "AvSKvckbZqFk"
      }
    },
    {
      "cell_type": "markdown",
      "source": [
        "### **Brief explanation**"
      ],
      "metadata": {
        "id": "g0gU5T7z5TVC"
      }
    },
    {
      "cell_type": "code",
      "source": [
        "import pandas as pd"
      ],
      "metadata": {
        "id": "WVyUi0S35khx"
      },
      "execution_count": 1,
      "outputs": []
    },
    {
      "cell_type": "markdown",
      "source": [
        "### **History**"
      ],
      "metadata": {
        "id": "FSgG_5Ql5fsC"
      }
    },
    {
      "cell_type": "code",
      "source": [
        ""
      ],
      "metadata": {
        "id": "FQFmDbmV5mMh"
      },
      "execution_count": null,
      "outputs": []
    },
    {
      "cell_type": "markdown",
      "source": [
        "### **Assumptions**"
      ],
      "metadata": {
        "id": "L7RfXhuG6oy6"
      }
    },
    {
      "cell_type": "code",
      "source": [
        ""
      ],
      "metadata": {
        "id": "LkVT9UbU6vI6"
      },
      "execution_count": null,
      "outputs": []
    },
    {
      "cell_type": "markdown",
      "source": [
        "### **Advantages and disadvantages**"
      ],
      "metadata": {
        "id": "V0N90jLH6rGJ"
      }
    },
    {
      "cell_type": "code",
      "source": [
        ""
      ],
      "metadata": {
        "id": "B1ZKlcXV6via"
      },
      "execution_count": null,
      "outputs": []
    },
    {
      "cell_type": "markdown",
      "source": [
        "# **Implementation**"
      ],
      "metadata": {
        "id": "0_vpATdX5cE4"
      }
    },
    {
      "cell_type": "code",
      "source": [
        "# import libraries"
      ],
      "metadata": {
        "id": "tt4Xev_m5dip"
      },
      "execution_count": 19,
      "outputs": []
    },
    {
      "cell_type": "code",
      "source": [
        ""
      ],
      "metadata": {
        "id": "r-EU3olo51uK"
      },
      "execution_count": null,
      "outputs": []
    }
  ]
}